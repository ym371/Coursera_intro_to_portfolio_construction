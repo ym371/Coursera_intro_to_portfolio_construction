{
 "cells": [
  {
   "cell_type": "code",
   "execution_count": 2,
   "metadata": {},
   "outputs": [],
   "source": [
    "import numpy as np\n",
    "import pandas as pd\n",
    "import edhec_risk_kit as erk\n",
    "%matplotlib inline\n",
    "%load_ext autoreload\n",
    "%autoreload 2"
   ]
  },
  {
   "cell_type": "code",
   "execution_count": 3,
   "metadata": {},
   "outputs": [
    {
     "data": {
      "text/plain": [
       "0    109.275393\n",
       "dtype: float64"
      ]
     },
     "execution_count": 3,
     "metadata": {},
     "output_type": "execute_result"
    }
   ],
   "source": [
    "erk.bond_price(5, 100, .05, 12, .03)"
   ]
  },
  {
   "cell_type": "code",
   "execution_count": 4,
   "metadata": {},
   "outputs": [],
   "source": [
    "rates, zc_prices = erk.cir(10, 500, b = 0.03, r_0 = 0.03)"
   ]
  },
  {
   "cell_type": "code",
   "execution_count": 5,
   "metadata": {},
   "outputs": [
    {
     "data": {
      "text/html": [
       "<div>\n",
       "<style scoped>\n",
       "    .dataframe tbody tr th:only-of-type {\n",
       "        vertical-align: middle;\n",
       "    }\n",
       "\n",
       "    .dataframe tbody tr th {\n",
       "        vertical-align: top;\n",
       "    }\n",
       "\n",
       "    .dataframe thead th {\n",
       "        text-align: right;\n",
       "    }\n",
       "</style>\n",
       "<table border=\"1\" class=\"dataframe\">\n",
       "  <thead>\n",
       "    <tr style=\"text-align: right;\">\n",
       "      <th></th>\n",
       "      <th>0</th>\n",
       "      <th>1</th>\n",
       "      <th>2</th>\n",
       "      <th>3</th>\n",
       "      <th>4</th>\n",
       "      <th>5</th>\n",
       "      <th>6</th>\n",
       "      <th>7</th>\n",
       "      <th>8</th>\n",
       "      <th>9</th>\n",
       "      <th>...</th>\n",
       "      <th>490</th>\n",
       "      <th>491</th>\n",
       "      <th>492</th>\n",
       "      <th>493</th>\n",
       "      <th>494</th>\n",
       "      <th>495</th>\n",
       "      <th>496</th>\n",
       "      <th>497</th>\n",
       "      <th>498</th>\n",
       "      <th>499</th>\n",
       "    </tr>\n",
       "  </thead>\n",
       "  <tbody>\n",
       "    <tr>\n",
       "      <td>0</td>\n",
       "      <td>0.030000</td>\n",
       "      <td>0.030000</td>\n",
       "      <td>0.030000</td>\n",
       "      <td>0.030000</td>\n",
       "      <td>0.030000</td>\n",
       "      <td>0.030000</td>\n",
       "      <td>0.030000</td>\n",
       "      <td>0.030000</td>\n",
       "      <td>0.030000</td>\n",
       "      <td>0.030000</td>\n",
       "      <td>...</td>\n",
       "      <td>0.030000</td>\n",
       "      <td>0.030000</td>\n",
       "      <td>0.030000</td>\n",
       "      <td>0.030000</td>\n",
       "      <td>0.030000</td>\n",
       "      <td>0.030000</td>\n",
       "      <td>0.030000</td>\n",
       "      <td>0.030000</td>\n",
       "      <td>0.030000</td>\n",
       "      <td>0.030000</td>\n",
       "    </tr>\n",
       "    <tr>\n",
       "      <td>1</td>\n",
       "      <td>0.030009</td>\n",
       "      <td>0.027432</td>\n",
       "      <td>0.023226</td>\n",
       "      <td>0.027411</td>\n",
       "      <td>0.029849</td>\n",
       "      <td>0.029723</td>\n",
       "      <td>0.026071</td>\n",
       "      <td>0.034756</td>\n",
       "      <td>0.029927</td>\n",
       "      <td>0.034298</td>\n",
       "      <td>...</td>\n",
       "      <td>0.025610</td>\n",
       "      <td>0.026438</td>\n",
       "      <td>0.029546</td>\n",
       "      <td>0.027908</td>\n",
       "      <td>0.029114</td>\n",
       "      <td>0.028527</td>\n",
       "      <td>0.027365</td>\n",
       "      <td>0.028618</td>\n",
       "      <td>0.029869</td>\n",
       "      <td>0.028444</td>\n",
       "    </tr>\n",
       "    <tr>\n",
       "      <td>2</td>\n",
       "      <td>0.028499</td>\n",
       "      <td>0.029771</td>\n",
       "      <td>0.024681</td>\n",
       "      <td>0.029362</td>\n",
       "      <td>0.026997</td>\n",
       "      <td>0.030492</td>\n",
       "      <td>0.026260</td>\n",
       "      <td>0.037827</td>\n",
       "      <td>0.029511</td>\n",
       "      <td>0.033589</td>\n",
       "      <td>...</td>\n",
       "      <td>0.022869</td>\n",
       "      <td>0.027668</td>\n",
       "      <td>0.026387</td>\n",
       "      <td>0.029713</td>\n",
       "      <td>0.027804</td>\n",
       "      <td>0.025270</td>\n",
       "      <td>0.024331</td>\n",
       "      <td>0.033162</td>\n",
       "      <td>0.030936</td>\n",
       "      <td>0.025020</td>\n",
       "    </tr>\n",
       "    <tr>\n",
       "      <td>3</td>\n",
       "      <td>0.027851</td>\n",
       "      <td>0.033198</td>\n",
       "      <td>0.022219</td>\n",
       "      <td>0.026130</td>\n",
       "      <td>0.028379</td>\n",
       "      <td>0.027344</td>\n",
       "      <td>0.025636</td>\n",
       "      <td>0.043812</td>\n",
       "      <td>0.030905</td>\n",
       "      <td>0.035729</td>\n",
       "      <td>...</td>\n",
       "      <td>0.019187</td>\n",
       "      <td>0.027060</td>\n",
       "      <td>0.027294</td>\n",
       "      <td>0.029688</td>\n",
       "      <td>0.027731</td>\n",
       "      <td>0.027042</td>\n",
       "      <td>0.023953</td>\n",
       "      <td>0.032136</td>\n",
       "      <td>0.030312</td>\n",
       "      <td>0.026629</td>\n",
       "    </tr>\n",
       "    <tr>\n",
       "      <td>4</td>\n",
       "      <td>0.025800</td>\n",
       "      <td>0.032711</td>\n",
       "      <td>0.025364</td>\n",
       "      <td>0.022850</td>\n",
       "      <td>0.024887</td>\n",
       "      <td>0.030127</td>\n",
       "      <td>0.025786</td>\n",
       "      <td>0.044521</td>\n",
       "      <td>0.031718</td>\n",
       "      <td>0.036954</td>\n",
       "      <td>...</td>\n",
       "      <td>0.017873</td>\n",
       "      <td>0.020655</td>\n",
       "      <td>0.031584</td>\n",
       "      <td>0.026069</td>\n",
       "      <td>0.027744</td>\n",
       "      <td>0.028307</td>\n",
       "      <td>0.025834</td>\n",
       "      <td>0.035349</td>\n",
       "      <td>0.025750</td>\n",
       "      <td>0.029760</td>\n",
       "    </tr>\n",
       "    <tr>\n",
       "      <td>...</td>\n",
       "      <td>...</td>\n",
       "      <td>...</td>\n",
       "      <td>...</td>\n",
       "      <td>...</td>\n",
       "      <td>...</td>\n",
       "      <td>...</td>\n",
       "      <td>...</td>\n",
       "      <td>...</td>\n",
       "      <td>...</td>\n",
       "      <td>...</td>\n",
       "      <td>...</td>\n",
       "      <td>...</td>\n",
       "      <td>...</td>\n",
       "      <td>...</td>\n",
       "      <td>...</td>\n",
       "      <td>...</td>\n",
       "      <td>...</td>\n",
       "      <td>...</td>\n",
       "      <td>...</td>\n",
       "      <td>...</td>\n",
       "      <td>...</td>\n",
       "    </tr>\n",
       "    <tr>\n",
       "      <td>116</td>\n",
       "      <td>0.028468</td>\n",
       "      <td>0.010108</td>\n",
       "      <td>0.000213</td>\n",
       "      <td>0.030109</td>\n",
       "      <td>0.025246</td>\n",
       "      <td>0.006870</td>\n",
       "      <td>0.027435</td>\n",
       "      <td>0.058952</td>\n",
       "      <td>0.036098</td>\n",
       "      <td>0.085341</td>\n",
       "      <td>...</td>\n",
       "      <td>0.001594</td>\n",
       "      <td>0.004794</td>\n",
       "      <td>0.008850</td>\n",
       "      <td>0.066791</td>\n",
       "      <td>0.017027</td>\n",
       "      <td>0.013992</td>\n",
       "      <td>0.015826</td>\n",
       "      <td>0.049260</td>\n",
       "      <td>0.020621</td>\n",
       "      <td>0.015882</td>\n",
       "    </tr>\n",
       "    <tr>\n",
       "      <td>117</td>\n",
       "      <td>0.032289</td>\n",
       "      <td>0.009474</td>\n",
       "      <td>0.000364</td>\n",
       "      <td>0.027421</td>\n",
       "      <td>0.022456</td>\n",
       "      <td>0.007827</td>\n",
       "      <td>0.027738</td>\n",
       "      <td>0.059430</td>\n",
       "      <td>0.039790</td>\n",
       "      <td>0.083269</td>\n",
       "      <td>...</td>\n",
       "      <td>0.000749</td>\n",
       "      <td>0.006096</td>\n",
       "      <td>0.009083</td>\n",
       "      <td>0.064946</td>\n",
       "      <td>0.018749</td>\n",
       "      <td>0.013398</td>\n",
       "      <td>0.016327</td>\n",
       "      <td>0.058234</td>\n",
       "      <td>0.019341</td>\n",
       "      <td>0.016420</td>\n",
       "    </tr>\n",
       "    <tr>\n",
       "      <td>118</td>\n",
       "      <td>0.034624</td>\n",
       "      <td>0.010079</td>\n",
       "      <td>0.000304</td>\n",
       "      <td>0.023710</td>\n",
       "      <td>0.020928</td>\n",
       "      <td>0.008061</td>\n",
       "      <td>0.029733</td>\n",
       "      <td>0.064363</td>\n",
       "      <td>0.044177</td>\n",
       "      <td>0.071523</td>\n",
       "      <td>...</td>\n",
       "      <td>0.000770</td>\n",
       "      <td>0.005074</td>\n",
       "      <td>0.008935</td>\n",
       "      <td>0.069809</td>\n",
       "      <td>0.020358</td>\n",
       "      <td>0.009376</td>\n",
       "      <td>0.015755</td>\n",
       "      <td>0.057544</td>\n",
       "      <td>0.018340</td>\n",
       "      <td>0.015510</td>\n",
       "    </tr>\n",
       "    <tr>\n",
       "      <td>119</td>\n",
       "      <td>0.033550</td>\n",
       "      <td>0.010324</td>\n",
       "      <td>0.000719</td>\n",
       "      <td>0.021972</td>\n",
       "      <td>0.020441</td>\n",
       "      <td>0.006474</td>\n",
       "      <td>0.028068</td>\n",
       "      <td>0.062465</td>\n",
       "      <td>0.044536</td>\n",
       "      <td>0.079223</td>\n",
       "      <td>...</td>\n",
       "      <td>0.001121</td>\n",
       "      <td>0.006459</td>\n",
       "      <td>0.009189</td>\n",
       "      <td>0.068734</td>\n",
       "      <td>0.018491</td>\n",
       "      <td>0.009091</td>\n",
       "      <td>0.013199</td>\n",
       "      <td>0.057883</td>\n",
       "      <td>0.017964</td>\n",
       "      <td>0.014301</td>\n",
       "    </tr>\n",
       "    <tr>\n",
       "      <td>120</td>\n",
       "      <td>0.031339</td>\n",
       "      <td>0.007679</td>\n",
       "      <td>0.000534</td>\n",
       "      <td>0.022064</td>\n",
       "      <td>0.020326</td>\n",
       "      <td>0.007223</td>\n",
       "      <td>0.026775</td>\n",
       "      <td>0.060394</td>\n",
       "      <td>0.048945</td>\n",
       "      <td>0.081756</td>\n",
       "      <td>...</td>\n",
       "      <td>0.001514</td>\n",
       "      <td>0.006820</td>\n",
       "      <td>0.012338</td>\n",
       "      <td>0.067095</td>\n",
       "      <td>0.017784</td>\n",
       "      <td>0.009584</td>\n",
       "      <td>0.013299</td>\n",
       "      <td>0.058202</td>\n",
       "      <td>0.017365</td>\n",
       "      <td>0.012881</td>\n",
       "    </tr>\n",
       "  </tbody>\n",
       "</table>\n",
       "<p>121 rows × 500 columns</p>\n",
       "</div>"
      ],
      "text/plain": [
       "          0         1         2         3         4         5         6    \\\n",
       "0    0.030000  0.030000  0.030000  0.030000  0.030000  0.030000  0.030000   \n",
       "1    0.030009  0.027432  0.023226  0.027411  0.029849  0.029723  0.026071   \n",
       "2    0.028499  0.029771  0.024681  0.029362  0.026997  0.030492  0.026260   \n",
       "3    0.027851  0.033198  0.022219  0.026130  0.028379  0.027344  0.025636   \n",
       "4    0.025800  0.032711  0.025364  0.022850  0.024887  0.030127  0.025786   \n",
       "..        ...       ...       ...       ...       ...       ...       ...   \n",
       "116  0.028468  0.010108  0.000213  0.030109  0.025246  0.006870  0.027435   \n",
       "117  0.032289  0.009474  0.000364  0.027421  0.022456  0.007827  0.027738   \n",
       "118  0.034624  0.010079  0.000304  0.023710  0.020928  0.008061  0.029733   \n",
       "119  0.033550  0.010324  0.000719  0.021972  0.020441  0.006474  0.028068   \n",
       "120  0.031339  0.007679  0.000534  0.022064  0.020326  0.007223  0.026775   \n",
       "\n",
       "          7         8         9    ...       490       491       492  \\\n",
       "0    0.030000  0.030000  0.030000  ...  0.030000  0.030000  0.030000   \n",
       "1    0.034756  0.029927  0.034298  ...  0.025610  0.026438  0.029546   \n",
       "2    0.037827  0.029511  0.033589  ...  0.022869  0.027668  0.026387   \n",
       "3    0.043812  0.030905  0.035729  ...  0.019187  0.027060  0.027294   \n",
       "4    0.044521  0.031718  0.036954  ...  0.017873  0.020655  0.031584   \n",
       "..        ...       ...       ...  ...       ...       ...       ...   \n",
       "116  0.058952  0.036098  0.085341  ...  0.001594  0.004794  0.008850   \n",
       "117  0.059430  0.039790  0.083269  ...  0.000749  0.006096  0.009083   \n",
       "118  0.064363  0.044177  0.071523  ...  0.000770  0.005074  0.008935   \n",
       "119  0.062465  0.044536  0.079223  ...  0.001121  0.006459  0.009189   \n",
       "120  0.060394  0.048945  0.081756  ...  0.001514  0.006820  0.012338   \n",
       "\n",
       "          493       494       495       496       497       498       499  \n",
       "0    0.030000  0.030000  0.030000  0.030000  0.030000  0.030000  0.030000  \n",
       "1    0.027908  0.029114  0.028527  0.027365  0.028618  0.029869  0.028444  \n",
       "2    0.029713  0.027804  0.025270  0.024331  0.033162  0.030936  0.025020  \n",
       "3    0.029688  0.027731  0.027042  0.023953  0.032136  0.030312  0.026629  \n",
       "4    0.026069  0.027744  0.028307  0.025834  0.035349  0.025750  0.029760  \n",
       "..        ...       ...       ...       ...       ...       ...       ...  \n",
       "116  0.066791  0.017027  0.013992  0.015826  0.049260  0.020621  0.015882  \n",
       "117  0.064946  0.018749  0.013398  0.016327  0.058234  0.019341  0.016420  \n",
       "118  0.069809  0.020358  0.009376  0.015755  0.057544  0.018340  0.015510  \n",
       "119  0.068734  0.018491  0.009091  0.013199  0.057883  0.017964  0.014301  \n",
       "120  0.067095  0.017784  0.009584  0.013299  0.058202  0.017365  0.012881  \n",
       "\n",
       "[121 rows x 500 columns]"
      ]
     },
     "execution_count": 5,
     "metadata": {},
     "output_type": "execute_result"
    }
   ],
   "source": [
    "rates"
   ]
  },
  {
   "cell_type": "code",
   "execution_count": 6,
   "metadata": {},
   "outputs": [
    {
     "data": {
      "text/plain": [
       "1    109.275393\n",
       "2    109.275393\n",
       "3    109.275393\n",
       "dtype: float64"
      ]
     },
     "execution_count": 6,
     "metadata": {},
     "output_type": "execute_result"
    }
   ],
   "source": [
    "erk.bond_price(5, 100, .05, 12, rates.iloc[0][[1,2,3]])"
   ]
  },
  {
   "cell_type": "code",
   "execution_count": 7,
   "metadata": {},
   "outputs": [
    {
     "data": {
      "text/plain": [
       "1    110.533170\n",
       "2    112.627513\n",
       "3    110.543325\n",
       "dtype: float64"
      ]
     },
     "execution_count": 7,
     "metadata": {},
     "output_type": "execute_result"
    }
   ],
   "source": [
    "erk.bond_price(5, 100, .05, 12, rates.iloc[1][[1,2,3]])"
   ]
  },
  {
   "cell_type": "code",
   "execution_count": 8,
   "metadata": {},
   "outputs": [
    {
     "data": {
      "text/plain": [
       "<matplotlib.axes._subplots.AxesSubplot at 0x23017a30160>"
      ]
     },
     "execution_count": 8,
     "metadata": {},
     "output_type": "execute_result"
    },
    {
     "data": {
      "image/png": "[encoded data removed]",
      "text/plain": [
       "<Figure size 1080x360 with 1 Axes>"
      ]
     },
     "metadata": {
      "needs_background": "light"
     },
     "output_type": "display_data"
    }
   ],
   "source": [
    "erk.bond_price(10, 100, .05, 12, rates[[1,2,3,4,5]]).plot(legend = False, figsize = (15,5))"
   ]
  },
  {
   "cell_type": "code",
   "execution_count": 9,
   "metadata": {},
   "outputs": [
    {
     "data": {
      "text/html": [
       "<div>\n",
       "<style scoped>\n",
       "    .dataframe tbody tr th:only-of-type {\n",
       "        vertical-align: middle;\n",
       "    }\n",
       "\n",
       "    .dataframe tbody tr th {\n",
       "        vertical-align: top;\n",
       "    }\n",
       "\n",
       "    .dataframe thead th {\n",
       "        text-align: right;\n",
       "    }\n",
       "</style>\n",
       "<table border=\"1\" class=\"dataframe\">\n",
       "  <thead>\n",
       "    <tr style=\"text-align: right;\">\n",
       "      <th></th>\n",
       "      <th>1</th>\n",
       "      <th>2</th>\n",
       "      <th>3</th>\n",
       "      <th>4</th>\n",
       "      <th>5</th>\n",
       "    </tr>\n",
       "  </thead>\n",
       "  <tbody>\n",
       "    <tr>\n",
       "      <td>0</td>\n",
       "      <td>117.26</td>\n",
       "      <td>117.26</td>\n",
       "      <td>117.26</td>\n",
       "      <td>117.26</td>\n",
       "      <td>117.26</td>\n",
       "    </tr>\n",
       "    <tr>\n",
       "      <td>1</td>\n",
       "      <td>119.575</td>\n",
       "      <td>123.695</td>\n",
       "      <td>119.595</td>\n",
       "      <td>117.278</td>\n",
       "      <td>117.397</td>\n",
       "    </tr>\n",
       "    <tr>\n",
       "      <td>2</td>\n",
       "      <td>117.227</td>\n",
       "      <td>122.086</td>\n",
       "      <td>117.608</td>\n",
       "      <td>119.847</td>\n",
       "      <td>116.556</td>\n",
       "    </tr>\n",
       "    <tr>\n",
       "      <td>3</td>\n",
       "      <td>113.978</td>\n",
       "      <td>124.333</td>\n",
       "      <td>120.526</td>\n",
       "      <td>118.397</td>\n",
       "      <td>119.371</td>\n",
       "    </tr>\n",
       "    <tr>\n",
       "      <td>4</td>\n",
       "      <td>114.311</td>\n",
       "      <td>121.1</td>\n",
       "      <td>123.528</td>\n",
       "      <td>121.557</td>\n",
       "      <td>116.648</td>\n",
       "    </tr>\n",
       "    <tr>\n",
       "      <td>...</td>\n",
       "      <td>...</td>\n",
       "      <td>...</td>\n",
       "      <td>...</td>\n",
       "      <td>...</td>\n",
       "      <td>...</td>\n",
       "    </tr>\n",
       "    <tr>\n",
       "      <td>116</td>\n",
       "      <td>101.327</td>\n",
       "      <td>101.659</td>\n",
       "      <td>100.659</td>\n",
       "      <td>100.821</td>\n",
       "      <td>101.436</td>\n",
       "    </tr>\n",
       "    <tr>\n",
       "      <td>117</td>\n",
       "      <td>101.012</td>\n",
       "      <td>101.241</td>\n",
       "      <td>100.562</td>\n",
       "      <td>100.686</td>\n",
       "      <td>101.053</td>\n",
       "    </tr>\n",
       "    <tr>\n",
       "      <td>118</td>\n",
       "      <td>100.665</td>\n",
       "      <td>100.828</td>\n",
       "      <td>100.437</td>\n",
       "      <td>100.483</td>\n",
       "      <td>100.698</td>\n",
       "    </tr>\n",
       "    <tr>\n",
       "      <td>119</td>\n",
       "      <td>100.33</td>\n",
       "      <td>100.411</td>\n",
       "      <td>100.233</td>\n",
       "      <td>100.246</td>\n",
       "      <td>100.363</td>\n",
       "    </tr>\n",
       "    <tr>\n",
       "      <td>120</td>\n",
       "      <td>100.417</td>\n",
       "      <td>100.417</td>\n",
       "      <td>100.417</td>\n",
       "      <td>100.417</td>\n",
       "      <td>100.417</td>\n",
       "    </tr>\n",
       "  </tbody>\n",
       "</table>\n",
       "<p>121 rows × 5 columns</p>\n",
       "</div>"
      ],
      "text/plain": [
       "           1        2        3        4        5\n",
       "0     117.26   117.26   117.26   117.26   117.26\n",
       "1    119.575  123.695  119.595  117.278  117.397\n",
       "2    117.227  122.086  117.608  119.847  116.556\n",
       "3    113.978  124.333  120.526  118.397  119.371\n",
       "4    114.311    121.1  123.528  121.557  116.648\n",
       "..       ...      ...      ...      ...      ...\n",
       "116  101.327  101.659  100.659  100.821  101.436\n",
       "117  101.012  101.241  100.562  100.686  101.053\n",
       "118  100.665  100.828  100.437  100.483  100.698\n",
       "119   100.33  100.411  100.233  100.246  100.363\n",
       "120  100.417  100.417  100.417  100.417  100.417\n",
       "\n",
       "[121 rows x 5 columns]"
      ]
     },
     "execution_count": 9,
     "metadata": {},
     "output_type": "execute_result"
    }
   ],
   "source": [
    "prices = erk.bond_price(10, 100, .05, 12, rates[[1,2,3,4,5]])\n",
    "prices"
   ]
  },
  {
   "cell_type": "code",
   "execution_count": 10,
   "metadata": {},
   "outputs": [
    {
     "data": {
      "text/plain": [
       "1   -0.015387\n",
       "2   -0.015387\n",
       "3   -0.015387\n",
       "4   -0.015387\n",
       "5   -0.015387\n",
       "dtype: float64"
      ]
     },
     "execution_count": 10,
     "metadata": {},
     "output_type": "execute_result"
    }
   ],
   "source": [
    "br = prices.pct_change().dropna()\n",
    "erk.annualize_rets(br, 12)\n",
    "# this is the price return, not the total return of the bond (did not add the coupon)"
   ]
  },
  {
   "cell_type": "code",
   "execution_count": 11,
   "metadata": {},
   "outputs": [
    {
     "data": {
      "text/plain": [
       "1    0.028013\n",
       "2    0.027546\n",
       "3    0.029891\n",
       "4    0.028385\n",
       "dtype: float64"
      ]
     },
     "execution_count": 11,
     "metadata": {},
     "output_type": "execute_result"
    }
   ],
   "source": [
    "p = erk.bond_price(10, 100, .05, 12, rates[[1,2,3,4]])\n",
    "btr = erk.bond_total_return(p, 100, 0.05, 12)\n",
    "erk.annualize_rets(btr, 12)\n",
    "# affected by interests because intermediate coupons are reinvested"
   ]
  },
  {
   "cell_type": "code",
   "execution_count": 12,
   "metadata": {},
   "outputs": [
    {
     "data": {
      "text/html": [
       "<div>\n",
       "<style scoped>\n",
       "    .dataframe tbody tr th:only-of-type {\n",
       "        vertical-align: middle;\n",
       "    }\n",
       "\n",
       "    .dataframe tbody tr th {\n",
       "        vertical-align: top;\n",
       "    }\n",
       "\n",
       "    .dataframe thead th {\n",
       "        text-align: right;\n",
       "    }\n",
       "</style>\n",
       "<table border=\"1\" class=\"dataframe\">\n",
       "  <thead>\n",
       "    <tr style=\"text-align: right;\">\n",
       "      <th></th>\n",
       "      <th>1</th>\n",
       "      <th>2</th>\n",
       "      <th>3</th>\n",
       "    </tr>\n",
       "  </thead>\n",
       "  <tbody>\n",
       "    <tr>\n",
       "      <td>116</td>\n",
       "      <td>101.327</td>\n",
       "      <td>101.659</td>\n",
       "      <td>100.659</td>\n",
       "    </tr>\n",
       "    <tr>\n",
       "      <td>117</td>\n",
       "      <td>101.012</td>\n",
       "      <td>101.241</td>\n",
       "      <td>100.562</td>\n",
       "    </tr>\n",
       "    <tr>\n",
       "      <td>118</td>\n",
       "      <td>100.665</td>\n",
       "      <td>100.828</td>\n",
       "      <td>100.437</td>\n",
       "    </tr>\n",
       "    <tr>\n",
       "      <td>119</td>\n",
       "      <td>100.33</td>\n",
       "      <td>100.411</td>\n",
       "      <td>100.233</td>\n",
       "    </tr>\n",
       "    <tr>\n",
       "      <td>120</td>\n",
       "      <td>100.417</td>\n",
       "      <td>100.417</td>\n",
       "      <td>100.417</td>\n",
       "    </tr>\n",
       "  </tbody>\n",
       "</table>\n",
       "</div>"
      ],
      "text/plain": [
       "           1        2        3\n",
       "116  101.327  101.659  100.659\n",
       "117  101.012  101.241  100.562\n",
       "118  100.665  100.828  100.437\n",
       "119   100.33  100.411  100.233\n",
       "120  100.417  100.417  100.417"
      ]
     },
     "execution_count": 12,
     "metadata": {},
     "output_type": "execute_result"
    }
   ],
   "source": [
    "price_10 = erk.bond_price(10,100, 0.05, 12, rates)\n",
    "price_10[[1,2,3]].tail()"
   ]
  },
  {
   "cell_type": "code",
   "execution_count": 13,
   "metadata": {},
   "outputs": [
    {
     "data": {
      "text/html": [
       "<div>\n",
       "<style scoped>\n",
       "    .dataframe tbody tr th:only-of-type {\n",
       "        vertical-align: middle;\n",
       "    }\n",
       "\n",
       "    .dataframe tbody tr th {\n",
       "        vertical-align: top;\n",
       "    }\n",
       "\n",
       "    .dataframe thead th {\n",
       "        text-align: right;\n",
       "    }\n",
       "</style>\n",
       "<table border=\"1\" class=\"dataframe\">\n",
       "  <thead>\n",
       "    <tr style=\"text-align: right;\">\n",
       "      <th></th>\n",
       "      <th>1</th>\n",
       "      <th>2</th>\n",
       "      <th>3</th>\n",
       "    </tr>\n",
       "  </thead>\n",
       "  <tbody>\n",
       "    <tr>\n",
       "      <td>116</td>\n",
       "      <td>173.293</td>\n",
       "      <td>201.013</td>\n",
       "      <td>130.22</td>\n",
       "    </tr>\n",
       "    <tr>\n",
       "      <td>117</td>\n",
       "      <td>174.647</td>\n",
       "      <td>200.14</td>\n",
       "      <td>135.054</td>\n",
       "    </tr>\n",
       "    <tr>\n",
       "      <td>118</td>\n",
       "      <td>172.824</td>\n",
       "      <td>199.911</td>\n",
       "      <td>142.11</td>\n",
       "    </tr>\n",
       "    <tr>\n",
       "      <td>119</td>\n",
       "      <td>171.936</td>\n",
       "      <td>198.259</td>\n",
       "      <td>145.478</td>\n",
       "    </tr>\n",
       "    <tr>\n",
       "      <td>120</td>\n",
       "      <td>178.439</td>\n",
       "      <td>198.404</td>\n",
       "      <td>145.142</td>\n",
       "    </tr>\n",
       "  </tbody>\n",
       "</table>\n",
       "</div>"
      ],
      "text/plain": [
       "           1        2        3\n",
       "116  173.293  201.013   130.22\n",
       "117  174.647   200.14  135.054\n",
       "118  172.824  199.911   142.11\n",
       "119  171.936  198.259  145.478\n",
       "120  178.439  198.404  145.142"
      ]
     },
     "execution_count": 13,
     "metadata": {},
     "output_type": "execute_result"
    }
   ],
   "source": [
    "price_30 = erk.bond_price(30,100, 0.05, 12, rates)\n",
    "price_30[[1,2,3]].tail()\n",
    "# do not converge because we have 20 more years to go"
   ]
  },
  {
   "cell_type": "code",
   "execution_count": 14,
   "metadata": {},
   "outputs": [],
   "source": [
    "rets_30 = erk.bond_total_return(price_30, 100, 0.05, 12)\n",
    "rets_10 = erk.bond_total_return(price_10, 100, 0.05, 12)\n",
    "rets_bonds = .6 * rets_10 + .4 * rets_30"
   ]
  },
  {
   "cell_type": "code",
   "execution_count": 15,
   "metadata": {},
   "outputs": [
    {
     "data": {
      "text/html": [
       "<div>\n",
       "<style scoped>\n",
       "    .dataframe tbody tr th:only-of-type {\n",
       "        vertical-align: middle;\n",
       "    }\n",
       "\n",
       "    .dataframe tbody tr th {\n",
       "        vertical-align: top;\n",
       "    }\n",
       "\n",
       "    .dataframe thead th {\n",
       "        text-align: right;\n",
       "    }\n",
       "</style>\n",
       "<table border=\"1\" class=\"dataframe\">\n",
       "  <thead>\n",
       "    <tr style=\"text-align: right;\">\n",
       "      <th></th>\n",
       "      <th>Annualized Return</th>\n",
       "      <th>Annualized Vol</th>\n",
       "      <th>Skewness</th>\n",
       "      <th>Kurtosis</th>\n",
       "      <th>Cornish-Fisher VaR (5%)</th>\n",
       "      <th>Historic CVaR (5%)</th>\n",
       "      <th>Sharpe Ratio</th>\n",
       "      <th>Max Drawdown</th>\n",
       "    </tr>\n",
       "  </thead>\n",
       "  <tbody>\n",
       "    <tr>\n",
       "      <td>0</td>\n",
       "      <td>0.03636</td>\n",
       "      <td>0.00397</td>\n",
       "      <td>0.227589</td>\n",
       "      <td>2.866595</td>\n",
       "      <td>-0.001176</td>\n",
       "      <td>-0.000784</td>\n",
       "      <td>1.559053</td>\n",
       "      <td>0.0</td>\n",
       "    </tr>\n",
       "  </tbody>\n",
       "</table>\n",
       "</div>"
      ],
      "text/plain": [
       "   Annualized Return  Annualized Vol  Skewness  Kurtosis  \\\n",
       "0            0.03636         0.00397  0.227589  2.866595   \n",
       "\n",
       "   Cornish-Fisher VaR (5%)  Historic CVaR (5%)  Sharpe Ratio  Max Drawdown  \n",
       "0                -0.001176           -0.000784      1.559053           0.0  "
      ]
     },
     "execution_count": 15,
     "metadata": {},
     "output_type": "execute_result"
    }
   ],
   "source": [
    "mean_rets_bonds = rets_bonds.mean(axis = 'columns')\n",
    "erk.summary_stats(pd.DataFrame(mean_rets_bonds))"
   ]
  },
  {
   "cell_type": "code",
   "execution_count": 16,
   "metadata": {},
   "outputs": [
    {
     "data": {
      "text/plain": [
       "(121, 500)"
      ]
     },
     "execution_count": 16,
     "metadata": {},
     "output_type": "execute_result"
    }
   ],
   "source": [
    "price_eq = erk.gbm(n_years = 10, n_scenarios = 500, mu = 0.07, sigma = 0.15)\n",
    "price_eq.shape"
   ]
  },
  {
   "cell_type": "code",
   "execution_count": 17,
   "metadata": {},
   "outputs": [
    {
     "data": {
      "text/plain": [
       "(120, 500)"
      ]
     },
     "execution_count": 17,
     "metadata": {},
     "output_type": "execute_result"
    }
   ],
   "source": [
    "rets_eq = price_eq.pct_change().dropna()\n",
    "rets_eq.shape"
   ]
  },
  {
   "cell_type": "code",
   "execution_count": 18,
   "metadata": {},
   "outputs": [
    {
     "data": {
      "text/plain": [
       "(120, 500)"
      ]
     },
     "execution_count": 18,
     "metadata": {},
     "output_type": "execute_result"
    }
   ],
   "source": [
    "rets_bonds.shape"
   ]
  },
  {
   "cell_type": "code",
   "execution_count": 19,
   "metadata": {},
   "outputs": [
    {
     "data": {
      "text/html": [
       "<div>\n",
       "<style scoped>\n",
       "    .dataframe tbody tr th:only-of-type {\n",
       "        vertical-align: middle;\n",
       "    }\n",
       "\n",
       "    .dataframe tbody tr th {\n",
       "        vertical-align: top;\n",
       "    }\n",
       "\n",
       "    .dataframe thead th {\n",
       "        text-align: right;\n",
       "    }\n",
       "</style>\n",
       "<table border=\"1\" class=\"dataframe\">\n",
       "  <thead>\n",
       "    <tr style=\"text-align: right;\">\n",
       "      <th></th>\n",
       "      <th>Annualized Return</th>\n",
       "      <th>Annualized Vol</th>\n",
       "      <th>Skewness</th>\n",
       "      <th>Kurtosis</th>\n",
       "      <th>Cornish-Fisher VaR (5%)</th>\n",
       "      <th>Historic CVaR (5%)</th>\n",
       "      <th>Sharpe Ratio</th>\n",
       "      <th>Max Drawdown</th>\n",
       "    </tr>\n",
       "  </thead>\n",
       "  <tbody>\n",
       "    <tr>\n",
       "      <td>0</td>\n",
       "      <td>0.059942</td>\n",
       "      <td>0.004847</td>\n",
       "      <td>-0.107088</td>\n",
       "      <td>2.672101</td>\n",
       "      <td>-0.002521</td>\n",
       "      <td>-0.002067</td>\n",
       "      <td>6.013086</td>\n",
       "      <td>0.0</td>\n",
       "    </tr>\n",
       "  </tbody>\n",
       "</table>\n",
       "</div>"
      ],
      "text/plain": [
       "   Annualized Return  Annualized Vol  Skewness  Kurtosis  \\\n",
       "0           0.059942        0.004847 -0.107088  2.672101   \n",
       "\n",
       "   Cornish-Fisher VaR (5%)  Historic CVaR (5%)  Sharpe Ratio  Max Drawdown  \n",
       "0                -0.002521           -0.002067      6.013086           0.0  "
      ]
     },
     "execution_count": 19,
     "metadata": {},
     "output_type": "execute_result"
    }
   ],
   "source": [
    "rets = .7 * rets_eq + .3 * rets_bonds\n",
    "rets_mean = rets.mean(axis = \"columns\")\n",
    "erk.summary_stats(pd.DataFrame(rets_mean))"
   ]
  },
  {
   "cell_type": "code",
   "execution_count": 20,
   "metadata": {},
   "outputs": [
    {
     "data": {
      "text/html": [
       "<div>\n",
       "<style scoped>\n",
       "    .dataframe tbody tr th:only-of-type {\n",
       "        vertical-align: middle;\n",
       "    }\n",
       "\n",
       "    .dataframe tbody tr th {\n",
       "        vertical-align: top;\n",
       "    }\n",
       "\n",
       "    .dataframe thead th {\n",
       "        text-align: right;\n",
       "    }\n",
       "</style>\n",
       "<table border=\"1\" class=\"dataframe\">\n",
       "  <thead>\n",
       "    <tr style=\"text-align: right;\">\n",
       "      <th></th>\n",
       "      <th>Annualized Return</th>\n",
       "      <th>Annualized Vol</th>\n",
       "      <th>Skewness</th>\n",
       "      <th>Kurtosis</th>\n",
       "      <th>Cornish-Fisher VaR (5%)</th>\n",
       "      <th>Historic CVaR (5%)</th>\n",
       "      <th>Sharpe Ratio</th>\n",
       "      <th>Max Drawdown</th>\n",
       "    </tr>\n",
       "  </thead>\n",
       "  <tbody>\n",
       "    <tr>\n",
       "      <td>0</td>\n",
       "      <td>0.03636</td>\n",
       "      <td>0.00397</td>\n",
       "      <td>0.227589</td>\n",
       "      <td>2.866595</td>\n",
       "      <td>-0.001176</td>\n",
       "      <td>-0.000784</td>\n",
       "      <td>1.559053</td>\n",
       "      <td>0.0</td>\n",
       "    </tr>\n",
       "  </tbody>\n",
       "</table>\n",
       "</div>"
      ],
      "text/plain": [
       "   Annualized Return  Annualized Vol  Skewness  Kurtosis  \\\n",
       "0            0.03636         0.00397  0.227589  2.866595   \n",
       "\n",
       "   Cornish-Fisher VaR (5%)  Historic CVaR (5%)  Sharpe Ratio  Max Drawdown  \n",
       "0                -0.001176           -0.000784      1.559053           0.0  "
      ]
     },
     "execution_count": 20,
     "metadata": {},
     "output_type": "execute_result"
    }
   ],
   "source": [
    "rets_bonds = erk.bt_mix(rets_10, rets_30, allocator = erk.fixedmix_allocator, w1 = 0.6)\n",
    "mean_rets_bonds = rets_bonds.mean(axis = 'columns')\n",
    "erk.summary_stats(pd.DataFrame(mean_rets_bonds))"
   ]
  },
  {
   "cell_type": "code",
   "execution_count": 21,
   "metadata": {},
   "outputs": [],
   "source": [
    "price_eq = erk.gbm(n_years = 10, n_scenarios = 500, mu = 0.07, sigma = 0.15)\n",
    "rets_eq = price_eq.pct_change().dropna()\n",
    "rets_zc = zc_prices.pct_change().dropna()"
   ]
  },
  {
   "cell_type": "code",
   "execution_count": 22,
   "metadata": {},
   "outputs": [
    {
     "data": {
      "text/html": [
       "<div>\n",
       "<style scoped>\n",
       "    .dataframe tbody tr th:only-of-type {\n",
       "        vertical-align: middle;\n",
       "    }\n",
       "\n",
       "    .dataframe tbody tr th {\n",
       "        vertical-align: top;\n",
       "    }\n",
       "\n",
       "    .dataframe thead th {\n",
       "        text-align: right;\n",
       "    }\n",
       "</style>\n",
       "<table border=\"1\" class=\"dataframe\">\n",
       "  <thead>\n",
       "    <tr style=\"text-align: right;\">\n",
       "      <th></th>\n",
       "      <th>Annualized Return</th>\n",
       "      <th>Annualized Vol</th>\n",
       "      <th>Skewness</th>\n",
       "      <th>Kurtosis</th>\n",
       "      <th>Cornish-Fisher VaR (5%)</th>\n",
       "      <th>Historic CVaR (5%)</th>\n",
       "      <th>Sharpe Ratio</th>\n",
       "      <th>Max Drawdown</th>\n",
       "    </tr>\n",
       "  </thead>\n",
       "  <tbody>\n",
       "    <tr>\n",
       "      <td>0</td>\n",
       "      <td>0.059103</td>\n",
       "      <td>0.00481</td>\n",
       "      <td>0.069974</td>\n",
       "      <td>2.419971</td>\n",
       "      <td>-0.002535</td>\n",
       "      <td>-0.002148</td>\n",
       "      <td>5.88944</td>\n",
       "      <td>0.0</td>\n",
       "    </tr>\n",
       "  </tbody>\n",
       "</table>\n",
       "</div>"
      ],
      "text/plain": [
       "   Annualized Return  Annualized Vol  Skewness  Kurtosis  \\\n",
       "0           0.059103         0.00481  0.069974  2.419971   \n",
       "\n",
       "   Cornish-Fisher VaR (5%)  Historic CVaR (5%)  Sharpe Ratio  Max Drawdown  \n",
       "0                -0.002535           -0.002148       5.88944           0.0  "
      ]
     },
     "execution_count": 22,
     "metadata": {},
     "output_type": "execute_result"
    }
   ],
   "source": [
    "rets_7030b = erk.bt_mix(rets_eq, rets_bonds, allocator = erk.fixedmix_allocator, w1 = 0.7)\n",
    "rets_7030b_mean = rets_7030b.mean(axis = 1)\n",
    "erk.summary_stats(pd.DataFrame(rets_7030b_mean))"
   ]
  },
  {
   "cell_type": "code",
   "execution_count": 23,
   "metadata": {},
   "outputs": [],
   "source": [
    "summaries  = erk.summary_stats(rets_7030b)"
   ]
  },
  {
   "cell_type": "code",
   "execution_count": 24,
   "metadata": {},
   "outputs": [
    {
     "data": {
      "text/html": [
       "<div>\n",
       "<style scoped>\n",
       "    .dataframe tbody tr th:only-of-type {\n",
       "        vertical-align: middle;\n",
       "    }\n",
       "\n",
       "    .dataframe tbody tr th {\n",
       "        vertical-align: top;\n",
       "    }\n",
       "\n",
       "    .dataframe thead th {\n",
       "        text-align: right;\n",
       "    }\n",
       "</style>\n",
       "<table border=\"1\" class=\"dataframe\">\n",
       "  <thead>\n",
       "    <tr style=\"text-align: right;\">\n",
       "      <th></th>\n",
       "      <th>Annualized Return</th>\n",
       "      <th>Annualized Vol</th>\n",
       "      <th>Skewness</th>\n",
       "      <th>Kurtosis</th>\n",
       "      <th>Cornish-Fisher VaR (5%)</th>\n",
       "      <th>Historic CVaR (5%)</th>\n",
       "      <th>Sharpe Ratio</th>\n",
       "      <th>Max Drawdown</th>\n",
       "    </tr>\n",
       "  </thead>\n",
       "  <tbody>\n",
       "    <tr>\n",
       "      <td>0</td>\n",
       "      <td>-0.045058</td>\n",
       "      <td>0.101448</td>\n",
       "      <td>0.297674</td>\n",
       "      <td>2.685403</td>\n",
       "      <td>0.049048</td>\n",
       "      <td>0.055091</td>\n",
       "      <td>-0.720138</td>\n",
       "      <td>-0.483877</td>\n",
       "    </tr>\n",
       "    <tr>\n",
       "      <td>1</td>\n",
       "      <td>0.027129</td>\n",
       "      <td>0.096625</td>\n",
       "      <td>-0.084867</td>\n",
       "      <td>3.260253</td>\n",
       "      <td>0.043590</td>\n",
       "      <td>0.057558</td>\n",
       "      <td>-0.029035</td>\n",
       "      <td>-0.161442</td>\n",
       "    </tr>\n",
       "    <tr>\n",
       "      <td>2</td>\n",
       "      <td>0.137636</td>\n",
       "      <td>0.126162</td>\n",
       "      <td>0.273267</td>\n",
       "      <td>2.772179</td>\n",
       "      <td>0.045503</td>\n",
       "      <td>0.055625</td>\n",
       "      <td>0.830278</td>\n",
       "      <td>-0.084367</td>\n",
       "    </tr>\n",
       "    <tr>\n",
       "      <td>3</td>\n",
       "      <td>0.112769</td>\n",
       "      <td>0.104830</td>\n",
       "      <td>-0.133695</td>\n",
       "      <td>2.437374</td>\n",
       "      <td>0.041650</td>\n",
       "      <td>0.049769</td>\n",
       "      <td>0.768379</td>\n",
       "      <td>-0.109815</td>\n",
       "    </tr>\n",
       "    <tr>\n",
       "      <td>4</td>\n",
       "      <td>0.038774</td>\n",
       "      <td>0.105173</td>\n",
       "      <td>0.180710</td>\n",
       "      <td>2.415000</td>\n",
       "      <td>0.044887</td>\n",
       "      <td>0.051669</td>\n",
       "      <td>0.081066</td>\n",
       "      <td>-0.263743</td>\n",
       "    </tr>\n",
       "  </tbody>\n",
       "</table>\n",
       "</div>"
      ],
      "text/plain": [
       "   Annualized Return  Annualized Vol  Skewness  Kurtosis  \\\n",
       "0          -0.045058        0.101448  0.297674  2.685403   \n",
       "1           0.027129        0.096625 -0.084867  3.260253   \n",
       "2           0.137636        0.126162  0.273267  2.772179   \n",
       "3           0.112769        0.104830 -0.133695  2.437374   \n",
       "4           0.038774        0.105173  0.180710  2.415000   \n",
       "\n",
       "   Cornish-Fisher VaR (5%)  Historic CVaR (5%)  Sharpe Ratio  Max Drawdown  \n",
       "0                 0.049048            0.055091     -0.720138     -0.483877  \n",
       "1                 0.043590            0.057558     -0.029035     -0.161442  \n",
       "2                 0.045503            0.055625      0.830278     -0.084367  \n",
       "3                 0.041650            0.049769      0.768379     -0.109815  \n",
       "4                 0.044887            0.051669      0.081066     -0.263743  "
      ]
     },
     "execution_count": 24,
     "metadata": {},
     "output_type": "execute_result"
    }
   ],
   "source": [
    "summaries.head()"
   ]
  },
  {
   "cell_type": "code",
   "execution_count": 25,
   "metadata": {},
   "outputs": [
    {
     "data": {
      "text/plain": [
       "Annualized Return          0.053648\n",
       "Annualized Vol             0.107507\n",
       "Skewness                  -0.005982\n",
       "Kurtosis                   2.952053\n",
       "Cornish-Fisher VaR (5%)    0.046083\n",
       "Historic CVaR (5%)         0.058357\n",
       "Sharpe Ratio               0.216120\n",
       "Max Drawdown              -0.210128\n",
       "dtype: float64"
      ]
     },
     "execution_count": 25,
     "metadata": {},
     "output_type": "execute_result"
    }
   ],
   "source": [
    "summaries.mean()"
   ]
  },
  {
   "cell_type": "code",
   "execution_count": 30,
   "metadata": {},
   "outputs": [
    {
     "data": {
      "text/html": [
       "<div>\n",
       "<style scoped>\n",
       "    .dataframe tbody tr th:only-of-type {\n",
       "        vertical-align: middle;\n",
       "    }\n",
       "\n",
       "    .dataframe tbody tr th {\n",
       "        vertical-align: top;\n",
       "    }\n",
       "\n",
       "    .dataframe thead th {\n",
       "        text-align: right;\n",
       "    }\n",
       "</style>\n",
       "<table border=\"1\" class=\"dataframe\">\n",
       "  <thead>\n",
       "    <tr style=\"text-align: right;\">\n",
       "      <th></th>\n",
       "      <th>FI</th>\n",
       "      <th>Eq</th>\n",
       "      <th>70/30</th>\n",
       "    </tr>\n",
       "  </thead>\n",
       "  <tbody>\n",
       "    <tr>\n",
       "      <td>mean</td>\n",
       "      <td>1.389672</td>\n",
       "      <td>1.965170</td>\n",
       "      <td>1.778458</td>\n",
       "    </tr>\n",
       "    <tr>\n",
       "      <td>std</td>\n",
       "      <td>0.102906</td>\n",
       "      <td>1.042053</td>\n",
       "      <td>0.639200</td>\n",
       "    </tr>\n",
       "    <tr>\n",
       "      <td>p_breach</td>\n",
       "      <td>NaN</td>\n",
       "      <td>0.050000</td>\n",
       "      <td>0.020000</td>\n",
       "    </tr>\n",
       "    <tr>\n",
       "      <td>e_short</td>\n",
       "      <td>NaN</td>\n",
       "      <td>0.158870</td>\n",
       "      <td>0.063930</td>\n",
       "    </tr>\n",
       "    <tr>\n",
       "      <td>p_reach</td>\n",
       "      <td>NaN</td>\n",
       "      <td>NaN</td>\n",
       "      <td>NaN</td>\n",
       "    </tr>\n",
       "    <tr>\n",
       "      <td>e_surplus</td>\n",
       "      <td>NaN</td>\n",
       "      <td>NaN</td>\n",
       "      <td>NaN</td>\n",
       "    </tr>\n",
       "  </tbody>\n",
       "</table>\n",
       "</div>"
      ],
      "text/plain": [
       "                 FI        Eq     70/30\n",
       "mean       1.389672  1.965170  1.778458\n",
       "std        0.102906  1.042053  0.639200\n",
       "p_breach        NaN  0.050000  0.020000\n",
       "e_short         NaN  0.158870  0.063930\n",
       "p_reach         NaN       NaN       NaN\n",
       "e_surplus       NaN       NaN       NaN"
      ]
     },
     "execution_count": 30,
     "metadata": {},
     "output_type": "execute_result"
    }
   ],
   "source": [
    "pd.concat([erk.terminal_stats(rets_bonds, name = \"FI\"),\n",
    "    erk.terminal_stats(rets_eq, name = \"Eq\"),\n",
    "     erk.terminal_stats(rets_7030b, name = \"70/30\")], axis = 1)"
   ]
  },
  {
   "cell_type": "code",
   "execution_count": 34,
   "metadata": {},
   "outputs": [
    {
     "data": {
      "image/png": "[encoded data removed]",
      "text/plain": [
       "<Figure size 864x432 with 1 Axes>"
      ]
     },
     "metadata": {
      "needs_background": "light"
     },
     "output_type": "display_data"
    }
   ],
   "source": [
    "import seaborn as sns\n",
    "import matplotlib.pyplot as plt\n",
    "plt.figure(figsize = (12,6))\n",
    "sns.distplot(erk.terminal_values(rets_eq), color = \"red\", label = \"100% Equities\")\n",
    "sns.distplot(erk.terminal_values(rets_bonds), color = \"blue\", label = \"100% bonds\")\n",
    "sns.distplot(erk.terminal_values(rets_7030b), color = \"orange\", label = \"70/30 equities/bonds\")\n",
    "plt.legend();\n"
   ]
  },
  {
   "cell_type": "code",
   "execution_count": 36,
   "metadata": {},
   "outputs": [
    {
     "data": {
      "text/html": [
       "<div>\n",
       "<style scoped>\n",
       "    .dataframe tbody tr th:only-of-type {\n",
       "        vertical-align: middle;\n",
       "    }\n",
       "\n",
       "    .dataframe tbody tr th {\n",
       "        vertical-align: top;\n",
       "    }\n",
       "\n",
       "    .dataframe thead th {\n",
       "        text-align: right;\n",
       "    }\n",
       "</style>\n",
       "<table border=\"1\" class=\"dataframe\">\n",
       "  <thead>\n",
       "    <tr style=\"text-align: right;\">\n",
       "      <th></th>\n",
       "      <th>FI</th>\n",
       "      <th>Eq</th>\n",
       "      <th>70/30</th>\n",
       "      <th>Glide 80 to 20</th>\n",
       "    </tr>\n",
       "  </thead>\n",
       "  <tbody>\n",
       "    <tr>\n",
       "      <td>mean</td>\n",
       "      <td>1.389672</td>\n",
       "      <td>1.965170</td>\n",
       "      <td>1.778458</td>\n",
       "      <td>1.651831</td>\n",
       "    </tr>\n",
       "    <tr>\n",
       "      <td>std</td>\n",
       "      <td>0.102906</td>\n",
       "      <td>1.042053</td>\n",
       "      <td>0.639200</td>\n",
       "      <td>0.446904</td>\n",
       "    </tr>\n",
       "    <tr>\n",
       "      <td>p_breach</td>\n",
       "      <td>NaN</td>\n",
       "      <td>0.050000</td>\n",
       "      <td>0.020000</td>\n",
       "      <td>0.004000</td>\n",
       "    </tr>\n",
       "    <tr>\n",
       "      <td>e_short</td>\n",
       "      <td>NaN</td>\n",
       "      <td>0.158870</td>\n",
       "      <td>0.063930</td>\n",
       "      <td>0.012980</td>\n",
       "    </tr>\n",
       "    <tr>\n",
       "      <td>p_reach</td>\n",
       "      <td>NaN</td>\n",
       "      <td>NaN</td>\n",
       "      <td>NaN</td>\n",
       "      <td>NaN</td>\n",
       "    </tr>\n",
       "    <tr>\n",
       "      <td>e_surplus</td>\n",
       "      <td>NaN</td>\n",
       "      <td>NaN</td>\n",
       "      <td>NaN</td>\n",
       "      <td>NaN</td>\n",
       "    </tr>\n",
       "  </tbody>\n",
       "</table>\n",
       "</div>"
      ],
      "text/plain": [
       "                 FI        Eq     70/30  Glide 80 to 20\n",
       "mean       1.389672  1.965170  1.778458        1.651831\n",
       "std        0.102906  1.042053  0.639200        0.446904\n",
       "p_breach        NaN  0.050000  0.020000        0.004000\n",
       "e_short         NaN  0.158870  0.063930        0.012980\n",
       "p_reach         NaN       NaN       NaN             NaN\n",
       "e_surplus       NaN       NaN       NaN             NaN"
      ]
     },
     "execution_count": 36,
     "metadata": {},
     "output_type": "execute_result"
    }
   ],
   "source": [
    "rets_g8020 = erk.bt_mix (rets_eq, rets_bonds, allocator = erk.glidepath_allocator, start_glide = .80, end_glide = .20)\n",
    "pd.concat([erk.terminal_stats(rets_bonds, name = \"FI\"),\n",
    "    erk.terminal_stats(rets_eq, name = \"Eq\"),\n",
    "     erk.terminal_stats(rets_7030b, name = \"70/30\"),\n",
    "          erk.terminal_stats(rets_g8020, name = \"Glide 80 to 20\")], axis = 1)\n"
   ]
  },
  {
   "cell_type": "code",
   "execution_count": 39,
   "metadata": {},
   "outputs": [],
   "source": [
    "n_scenarios = 5000\n",
    "rates, zc_prices = erk.cir(10, n_scenarios = n_scenarios, b = 0.03, r_0 = 0.03, sigma = 0.02)\n",
    "price_eq = erk.gbm(n_years = 10, n_scenarios = n_scenarios, mu = 0.07, sigma= 0.15)"
   ]
  },
  {
   "cell_type": "code",
   "execution_count": 42,
   "metadata": {},
   "outputs": [
    {
     "data": {
      "text/html": [
       "<div>\n",
       "<style scoped>\n",
       "    .dataframe tbody tr th:only-of-type {\n",
       "        vertical-align: middle;\n",
       "    }\n",
       "\n",
       "    .dataframe tbody tr th {\n",
       "        vertical-align: top;\n",
       "    }\n",
       "\n",
       "    .dataframe thead th {\n",
       "        text-align: right;\n",
       "    }\n",
       "</style>\n",
       "<table border=\"1\" class=\"dataframe\">\n",
       "  <thead>\n",
       "    <tr style=\"text-align: right;\">\n",
       "      <th></th>\n",
       "      <th>ZC</th>\n",
       "      <th>Eq</th>\n",
       "      <th>70/30</th>\n",
       "    </tr>\n",
       "  </thead>\n",
       "  <tbody>\n",
       "    <tr>\n",
       "      <td>mean</td>\n",
       "      <td>1.39</td>\n",
       "      <td>1.96</td>\n",
       "      <td>1.75</td>\n",
       "    </tr>\n",
       "    <tr>\n",
       "      <td>std</td>\n",
       "      <td>0.10</td>\n",
       "      <td>0.96</td>\n",
       "      <td>0.59</td>\n",
       "    </tr>\n",
       "    <tr>\n",
       "      <td>p_breach</td>\n",
       "      <td>NaN</td>\n",
       "      <td>0.04</td>\n",
       "      <td>0.01</td>\n",
       "    </tr>\n",
       "    <tr>\n",
       "      <td>e_short</td>\n",
       "      <td>NaN</td>\n",
       "      <td>0.11</td>\n",
       "      <td>0.07</td>\n",
       "    </tr>\n",
       "    <tr>\n",
       "      <td>p_reach</td>\n",
       "      <td>NaN</td>\n",
       "      <td>NaN</td>\n",
       "      <td>NaN</td>\n",
       "    </tr>\n",
       "    <tr>\n",
       "      <td>e_surplus</td>\n",
       "      <td>NaN</td>\n",
       "      <td>NaN</td>\n",
       "      <td>NaN</td>\n",
       "    </tr>\n",
       "  </tbody>\n",
       "</table>\n",
       "</div>"
      ],
      "text/plain": [
       "             ZC    Eq  70/30\n",
       "mean       1.39  1.96   1.75\n",
       "std        0.10  0.96   0.59\n",
       "p_breach    NaN  0.04   0.01\n",
       "e_short     NaN  0.11   0.07\n",
       "p_reach     NaN   NaN    NaN\n",
       "e_surplus   NaN   NaN    NaN"
      ]
     },
     "execution_count": 42,
     "metadata": {},
     "output_type": "execute_result"
    }
   ],
   "source": [
    "rets_eq = price_eq.pct_change().dropna()\n",
    "rets_zc = zc_prices.pct_change().dropna()\n",
    "rets_7030b = erk.bt_mix(rets_eq, rets_zc, allocator = erk.fixedmix_allocator, w1 = 0.7)\n",
    "pd.concat([erk.terminal_stats(rets_bonds, name = \"ZC\", floor = 0.75),\n",
    "    erk.terminal_stats(rets_eq, name = \"Eq\", floor = 0.75),\n",
    "     erk.terminal_stats(rets_7030b, name = \"70/30\", floor = 0.75)], axis = 1).round(2)\n"
   ]
  },
  {
   "cell_type": "code",
   "execution_count": 43,
   "metadata": {},
   "outputs": [
    {
     "data": {
      "text/html": [
       "<div>\n",
       "<style scoped>\n",
       "    .dataframe tbody tr th:only-of-type {\n",
       "        vertical-align: middle;\n",
       "    }\n",
       "\n",
       "    .dataframe tbody tr th {\n",
       "        vertical-align: top;\n",
       "    }\n",
       "\n",
       "    .dataframe thead th {\n",
       "        text-align: right;\n",
       "    }\n",
       "</style>\n",
       "<table border=\"1\" class=\"dataframe\">\n",
       "  <thead>\n",
       "    <tr style=\"text-align: right;\">\n",
       "      <th></th>\n",
       "      <th>ZC</th>\n",
       "      <th>Eq</th>\n",
       "      <th>70/30</th>\n",
       "      <th>floor75</th>\n",
       "    </tr>\n",
       "  </thead>\n",
       "  <tbody>\n",
       "    <tr>\n",
       "      <td>mean</td>\n",
       "      <td>1.39</td>\n",
       "      <td>1.96</td>\n",
       "      <td>1.75</td>\n",
       "      <td>1.94</td>\n",
       "    </tr>\n",
       "    <tr>\n",
       "      <td>std</td>\n",
       "      <td>0.10</td>\n",
       "      <td>0.96</td>\n",
       "      <td>0.59</td>\n",
       "      <td>0.97</td>\n",
       "    </tr>\n",
       "    <tr>\n",
       "      <td>p_breach</td>\n",
       "      <td>NaN</td>\n",
       "      <td>0.04</td>\n",
       "      <td>0.01</td>\n",
       "      <td>NaN</td>\n",
       "    </tr>\n",
       "    <tr>\n",
       "      <td>e_short</td>\n",
       "      <td>NaN</td>\n",
       "      <td>0.11</td>\n",
       "      <td>0.07</td>\n",
       "      <td>NaN</td>\n",
       "    </tr>\n",
       "    <tr>\n",
       "      <td>p_reach</td>\n",
       "      <td>NaN</td>\n",
       "      <td>NaN</td>\n",
       "      <td>NaN</td>\n",
       "      <td>NaN</td>\n",
       "    </tr>\n",
       "    <tr>\n",
       "      <td>e_surplus</td>\n",
       "      <td>NaN</td>\n",
       "      <td>NaN</td>\n",
       "      <td>NaN</td>\n",
       "      <td>NaN</td>\n",
       "    </tr>\n",
       "  </tbody>\n",
       "</table>\n",
       "</div>"
      ],
      "text/plain": [
       "             ZC    Eq  70/30  floor75\n",
       "mean       1.39  1.96   1.75     1.94\n",
       "std        0.10  0.96   0.59     0.97\n",
       "p_breach    NaN  0.04   0.01      NaN\n",
       "e_short     NaN  0.11   0.07      NaN\n",
       "p_reach     NaN   NaN    NaN      NaN\n",
       "e_surplus   NaN   NaN    NaN      NaN"
      ]
     },
     "execution_count": 43,
     "metadata": {},
     "output_type": "execute_result"
    }
   ],
   "source": [
    "rets_floor75 = erk.bt_mix(rets_eq, rets_zc, allocator = erk.floor_allocator, floor=.75, zc_prices = zc_prices[1:])\n",
    "pd.concat([erk.terminal_stats(rets_bonds, name = \"ZC\", floor = 0.75),\n",
    "    erk.terminal_stats(rets_eq, name = \"Eq\", floor = 0.75),\n",
    "     erk.terminal_stats(rets_7030b, name = \"70/30\", floor = 0.75),\n",
    "           erk.terminal_stats(rets_floor75, name = \"floor75\", floor = 0.75)], axis = 1).round(2)\n"
   ]
  },
  {
   "cell_type": "code",
   "execution_count": 45,
   "metadata": {},
   "outputs": [
    {
     "data": {
      "text/html": [
       "<div>\n",
       "<style scoped>\n",
       "    .dataframe tbody tr th:only-of-type {\n",
       "        vertical-align: middle;\n",
       "    }\n",
       "\n",
       "    .dataframe tbody tr th {\n",
       "        vertical-align: top;\n",
       "    }\n",
       "\n",
       "    .dataframe thead th {\n",
       "        text-align: right;\n",
       "    }\n",
       "</style>\n",
       "<table border=\"1\" class=\"dataframe\">\n",
       "  <thead>\n",
       "    <tr style=\"text-align: right;\">\n",
       "      <th></th>\n",
       "      <th>ZC</th>\n",
       "      <th>Eq</th>\n",
       "      <th>70/30</th>\n",
       "      <th>floor75</th>\n",
       "      <th>floor75m1</th>\n",
       "      <th>floor75m5</th>\n",
       "    </tr>\n",
       "  </thead>\n",
       "  <tbody>\n",
       "    <tr>\n",
       "      <td>mean</td>\n",
       "      <td>1.3897</td>\n",
       "      <td>1.9641</td>\n",
       "      <td>1.7542</td>\n",
       "      <td>1.9394</td>\n",
       "      <td>1.6194</td>\n",
       "      <td>1.9494</td>\n",
       "    </tr>\n",
       "    <tr>\n",
       "      <td>std</td>\n",
       "      <td>0.1029</td>\n",
       "      <td>0.9604</td>\n",
       "      <td>0.5882</td>\n",
       "      <td>0.9658</td>\n",
       "      <td>0.4238</td>\n",
       "      <td>0.9693</td>\n",
       "    </tr>\n",
       "    <tr>\n",
       "      <td>p_breach</td>\n",
       "      <td>NaN</td>\n",
       "      <td>0.0372</td>\n",
       "      <td>0.0066</td>\n",
       "      <td>NaN</td>\n",
       "      <td>NaN</td>\n",
       "      <td>0.0002</td>\n",
       "    </tr>\n",
       "    <tr>\n",
       "      <td>e_short</td>\n",
       "      <td>NaN</td>\n",
       "      <td>0.1135</td>\n",
       "      <td>0.0725</td>\n",
       "      <td>NaN</td>\n",
       "      <td>NaN</td>\n",
       "      <td>0.0003</td>\n",
       "    </tr>\n",
       "    <tr>\n",
       "      <td>p_reach</td>\n",
       "      <td>NaN</td>\n",
       "      <td>NaN</td>\n",
       "      <td>NaN</td>\n",
       "      <td>NaN</td>\n",
       "      <td>NaN</td>\n",
       "      <td>NaN</td>\n",
       "    </tr>\n",
       "    <tr>\n",
       "      <td>e_surplus</td>\n",
       "      <td>NaN</td>\n",
       "      <td>NaN</td>\n",
       "      <td>NaN</td>\n",
       "      <td>NaN</td>\n",
       "      <td>NaN</td>\n",
       "      <td>NaN</td>\n",
       "    </tr>\n",
       "  </tbody>\n",
       "</table>\n",
       "</div>"
      ],
      "text/plain": [
       "               ZC      Eq   70/30  floor75  floor75m1  floor75m5\n",
       "mean       1.3897  1.9641  1.7542   1.9394     1.6194     1.9494\n",
       "std        0.1029  0.9604  0.5882   0.9658     0.4238     0.9693\n",
       "p_breach      NaN  0.0372  0.0066      NaN        NaN     0.0002\n",
       "e_short       NaN  0.1135  0.0725      NaN        NaN     0.0003\n",
       "p_reach       NaN     NaN     NaN      NaN        NaN        NaN\n",
       "e_surplus     NaN     NaN     NaN      NaN        NaN        NaN"
      ]
     },
     "execution_count": 45,
     "metadata": {},
     "output_type": "execute_result"
    }
   ],
   "source": [
    "rets_floor75m1 = erk.bt_mix(rets_eq, rets_zc, allocator = erk.floor_allocator, floor=.75, zc_prices = zc_prices[1:], m =1)\n",
    "rets_floor75m5 = erk.bt_mix(rets_eq, rets_zc, allocator = erk.floor_allocator, floor=.75, zc_prices = zc_prices[1:], m = 5)\n",
    "pd.concat([erk.terminal_stats(rets_bonds, name = \"ZC\", floor = 0.75),\n",
    "    erk.terminal_stats(rets_eq, name = \"Eq\", floor = 0.75),\n",
    "     erk.terminal_stats(rets_7030b, name = \"70/30\", floor = 0.75),\n",
    "           erk.terminal_stats(rets_floor75, name = \"floor75\", floor = 0.75),\n",
    "          erk.terminal_stats(rets_floor75m1, name = \"floor75m1\", floor = 0.75),\n",
    "          erk.terminal_stats(rets_floor75m5, name = \"floor75m5\", floor = 0.75)], axis = 1).round(4)\n"
   ]
  },
  {
   "cell_type": "code",
   "execution_count": 50,
   "metadata": {},
   "outputs": [],
   "source": [
    "cash_rate = 0.02\n",
    "monthly_cashreturn = (1+cash_rate) ** (1/12) -1\n",
    "rets_cash = pd.DataFrame(data = monthly_cashreturn, index = rets_eq.index, columns = rets_eq.columns)\n",
    "rets_maxdd25 = erk.bt_mix(rets_eq, rets_cash, allocator =erk.drawdown_allocator, maxdd=.25)"
   ]
  },
  {
   "cell_type": "code",
   "execution_count": 51,
   "metadata": {},
   "outputs": [],
   "source": [
    "tv_maxdd25 = erk.terminal_values(rets_maxdd25)"
   ]
  },
  {
   "cell_type": "code",
   "execution_count": 52,
   "metadata": {},
   "outputs": [
    {
     "data": {
      "text/plain": [
       "0   -0.124227\n",
       "1   -0.204202\n",
       "2   -0.182680\n",
       "3   -0.110343\n",
       "4   -0.191539\n",
       "Name: Max Drawdown, dtype: float64"
      ]
     },
     "execution_count": 52,
     "metadata": {},
     "output_type": "execute_result"
    }
   ],
   "source": [
    "erk.summary_stats(rets_maxdd25)[\"Max Drawdown\"].head()"
   ]
  },
  {
   "cell_type": "code",
   "execution_count": 53,
   "metadata": {},
   "outputs": [
    {
     "data": {
      "text/plain": [
       "-0.23634598849184046"
      ]
     },
     "execution_count": 53,
     "metadata": {},
     "output_type": "execute_result"
    }
   ],
   "source": [
    "erk.summary_stats(rets_maxdd25)[\"Max Drawdown\"].min()"
   ]
  },
  {
   "cell_type": "code",
   "execution_count": null,
   "metadata": {},
   "outputs": [],
   "source": []
  }
 ],
 "metadata": {
  "kernelspec": {
   "display_name": "Python [conda env:data science]",
   "language": "python",
   "name": "conda-env-data_science-py"
  },
  "language_info": {
   "codemirror_mode": {
    "name": "ipython",
    "version": 3
   },
   "file_extension": ".py",
   "mimetype": "text/x-python",
   "name": "python",
   "nbconvert_exporter": "python",
   "pygments_lexer": "ipython3",
   "version": "3.6.9"
  },
  "toc": {
   "base_numbering": 1,
   "nav_menu": {},
   "number_sections": true,
   "sideBar": true,
   "skip_h1_title": false,
   "title_cell": "Table of Contents",
   "title_sidebar": "Contents",
   "toc_cell": false,
   "toc_position": {},
   "toc_section_display": true,
   "toc_window_display": false
  }
 },
 "nbformat": 4,
 "nbformat_minor": 2
}
